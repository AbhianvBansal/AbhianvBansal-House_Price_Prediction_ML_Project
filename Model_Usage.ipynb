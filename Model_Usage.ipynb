{
 "cells": [
  {
   "cell_type": "markdown",
   "id": "49ebf554-1240-43ca-b9d3-a1785a500593",
   "metadata": {},
   "source": [
    "USING THE HOUSE PRICE PREDICTION MODEL"
   ]
  },
  {
   "cell_type": "code",
   "execution_count": 2,
   "id": "6c558148-67ea-4a6e-85d8-071c501cb39f",
   "metadata": {},
   "outputs": [
    {
     "data": {
      "text/plain": [
       "array([24.9630087])"
      ]
     },
     "execution_count": 2,
     "metadata": {},
     "output_type": "execute_result"
    }
   ],
   "source": [
    "from joblib import dump, load\n",
    "import numpy as np\n",
    "model = load('Price_Predicted.joblib')\n",
    "features = np.array([[ 1.33634919, -100.69732575,  0.18998546,  0.88477281, -0.37510886,\n",
    "       -1.38876478, -1.14545847]])\n",
    "model.predict(features)"
   ]
  },
  {
   "cell_type": "code",
   "execution_count": null,
   "id": "f031fb56-ffbf-4783-b8b5-eb78b71337ed",
   "metadata": {},
   "outputs": [],
   "source": []
  }
 ],
 "metadata": {
  "kernelspec": {
   "display_name": "Python 3 (ipykernel)",
   "language": "python",
   "name": "python3"
  },
  "language_info": {
   "codemirror_mode": {
    "name": "ipython",
    "version": 3
   },
   "file_extension": ".py",
   "mimetype": "text/x-python",
   "name": "python",
   "nbconvert_exporter": "python",
   "pygments_lexer": "ipython3",
   "version": "3.11.5"
  }
 },
 "nbformat": 4,
 "nbformat_minor": 5
}
